{
 "cells": [
  {
   "cell_type": "code",
   "execution_count": 2,
   "metadata": {
    "collapsed": true,
    "ExecuteTime": {
     "start_time": "2023-05-02T00:55:33.524167Z",
     "end_time": "2023-05-02T00:55:33.544197Z"
    }
   },
   "outputs": [
    {
     "data": {
      "text/plain": "array([[6, 7, 4, 0, 8],\n       [1, 4, 5, 7, 8],\n       [3, 9, 2, 9, 3],\n       [7, 5, 2, 6, 2],\n       [9, 7, 6, 8, 5]])"
     },
     "execution_count": 2,
     "metadata": {},
     "output_type": "execute_result"
    }
   ],
   "source": [
    "import numpy as np\n",
    "a = np.random.randint(10,size=(5,5))\n",
    "a"
   ]
  },
  {
   "cell_type": "code",
   "execution_count": 4,
   "outputs": [
    {
     "data": {
      "text/plain": "array([[6, 7],\n       [1, 4],\n       [3, 9]])"
     },
     "execution_count": 4,
     "metadata": {},
     "output_type": "execute_result"
    }
   ],
   "source": [
    "subset_a = a[0:3,0:2]\n",
    "subset_a"
   ],
   "metadata": {
    "collapsed": false,
    "ExecuteTime": {
     "start_time": "2023-05-02T00:56:16.724738Z",
     "end_time": "2023-05-02T00:56:16.736251Z"
    }
   }
  },
  {
   "cell_type": "code",
   "execution_count": 6,
   "outputs": [
    {
     "data": {
      "text/plain": "array([[999999,      7],\n       [     1,  88888],\n       [     3,      9]])"
     },
     "execution_count": 6,
     "metadata": {},
     "output_type": "execute_result"
    }
   ],
   "source": [
    "subset_a[0,0] = 999999\n",
    "subset_a[1,1] = 88888\n",
    "subset_a"
   ],
   "metadata": {
    "collapsed": false,
    "ExecuteTime": {
     "start_time": "2023-05-02T00:56:49.248628Z",
     "end_time": "2023-05-02T00:56:49.271138Z"
    }
   }
  },
  {
   "cell_type": "code",
   "execution_count": 7,
   "outputs": [
    {
     "data": {
      "text/plain": "array([[5, 0, 2, 2, 2],\n       [3, 4, 5, 5, 0],\n       [1, 1, 2, 7, 8],\n       [0, 0, 1, 5, 9],\n       [1, 7, 7, 2, 7]])"
     },
     "execution_count": 7,
     "metadata": {},
     "output_type": "execute_result"
    }
   ],
   "source": [
    "m = np.random.randint(10,size=(5,5))\n",
    "m"
   ],
   "metadata": {
    "collapsed": false,
    "ExecuteTime": {
     "start_time": "2023-05-02T00:57:38.790921Z",
     "end_time": "2023-05-02T00:57:38.821652Z"
    }
   }
  },
  {
   "cell_type": "code",
   "execution_count": 14,
   "outputs": [
    {
     "data": {
      "text/plain": "array([[5, 0],\n       [3, 4],\n       [1, 1]])"
     },
     "execution_count": 14,
     "metadata": {},
     "output_type": "execute_result"
    }
   ],
   "source": [
    "subset_b = m[0:3,0:2].copy()\n",
    "subset_b"
   ],
   "metadata": {
    "collapsed": false,
    "ExecuteTime": {
     "start_time": "2023-05-02T00:59:31.919090Z",
     "end_time": "2023-05-02T00:59:31.942224Z"
    }
   }
  },
  {
   "cell_type": "code",
   "execution_count": 16,
   "outputs": [
    {
     "data": {
      "text/plain": "array([[5, 0],\n       [3, 4],\n       [1, 1]])"
     },
     "execution_count": 16,
     "metadata": {},
     "output_type": "execute_result"
    }
   ],
   "source": [
    "subset_b[0:0] = 999999\n",
    "subset_b"
   ],
   "metadata": {
    "collapsed": false,
    "ExecuteTime": {
     "start_time": "2023-05-02T00:59:38.939162Z",
     "end_time": "2023-05-02T00:59:38.959691Z"
    }
   }
  },
  {
   "cell_type": "code",
   "execution_count": 10,
   "outputs": [
    {
     "data": {
      "text/plain": "array([[5, 0, 2, 2, 2],\n       [3, 4, 5, 5, 0],\n       [1, 1, 2, 7, 8],\n       [0, 0, 1, 5, 9],\n       [1, 7, 7, 2, 7]])"
     },
     "execution_count": 10,
     "metadata": {},
     "output_type": "execute_result"
    }
   ],
   "source": [
    "m"
   ],
   "metadata": {
    "collapsed": false,
    "ExecuteTime": {
     "start_time": "2023-05-02T00:58:35.650725Z",
     "end_time": "2023-05-02T00:58:35.680795Z"
    }
   }
  },
  {
   "cell_type": "code",
   "execution_count": null,
   "outputs": [],
   "source": [],
   "metadata": {
    "collapsed": false
   }
  }
 ],
 "metadata": {
  "kernelspec": {
   "display_name": "Python 3",
   "language": "python",
   "name": "python3"
  },
  "language_info": {
   "codemirror_mode": {
    "name": "ipython",
    "version": 2
   },
   "file_extension": ".py",
   "mimetype": "text/x-python",
   "name": "python",
   "nbconvert_exporter": "python",
   "pygments_lexer": "ipython2",
   "version": "2.7.6"
  }
 },
 "nbformat": 4,
 "nbformat_minor": 0
}
